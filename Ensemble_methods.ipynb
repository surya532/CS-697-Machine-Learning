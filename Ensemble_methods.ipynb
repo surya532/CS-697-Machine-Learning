{
 "cells": [
  {
   "cell_type": "code",
   "execution_count": 14,
   "metadata": {},
   "outputs": [],
   "source": [
    "from sklearn.ensemble import RandomForestClassifier\n",
    "from sklearn.ensemble import VotingClassifier\n",
    "from sklearn.linear_model import LogisticRegression\n",
    "from sklearn.svm import SVC\n",
    "from sklearn.datasets import load_iris\n",
    "import numpy as np"
   ]
  },
  {
   "cell_type": "code",
   "execution_count": 15,
   "metadata": {},
   "outputs": [],
   "source": [
    "iris = load_iris()\n",
    "X = iris.data[:, 2:] # petal length and width\n",
    "Y = iris.target\n"
   ]
  },
  {
   "cell_type": "code",
   "execution_count": null,
   "metadata": {},
   "outputs": [],
   "source": []
  },
  {
   "cell_type": "code",
   "execution_count": 16,
   "metadata": {},
   "outputs": [],
   "source": [
    "log_clf = LogisticRegression()\n",
    "rnd_clf = RandomForestClassifier()\n",
    "svm_clf = SVC()"
   ]
  },
  {
   "cell_type": "code",
   "execution_count": 18,
   "metadata": {},
   "outputs": [
    {
     "data": {
      "text/plain": [
       "VotingClassifier(estimators=[('lr', LogisticRegression()),\n",
       "                             ('rf', RandomForestClassifier()), ('svc', SVC())])"
      ]
     },
     "execution_count": 18,
     "metadata": {},
     "output_type": "execute_result"
    }
   ],
   "source": [
    "voting_clf = VotingClassifier(\n",
    "estimators=[('lr', log_clf), ('rf', rnd_clf), ('svc', svm_clf)],\n",
    "voting='hard')\n",
    "voting_clf.fit(X, Y)"
   ]
  },
  {
   "cell_type": "code",
   "execution_count": 8,
   "metadata": {},
   "outputs": [
    {
     "name": "stdout",
     "output_type": "stream",
     "text": [
      "LogisticRegression 0.9666666666666667\n",
      "RandomForestClassifier 0.9933333333333333\n",
      "SVC 0.9533333333333334\n",
      "VotingClassifier 0.9666666666666667\n"
     ]
    }
   ],
   "source": [
    "from sklearn.metrics import accuracy_score\n",
    "for clf in (log_clf, rnd_clf, svm_clf, voting_clf):\n",
    "    clf.fit(X, Y)\n",
    "    y_pred = clf.predict(X)\n",
    "    print(clf.__class__.__name__, accuracy_score(Y, y_pred))"
   ]
  },
  {
   "cell_type": "code",
   "execution_count": 20,
   "metadata": {},
   "outputs": [],
   "source": [
    "from sklearn.ensemble import BaggingClassifier\n",
    "from sklearn.tree import DecisionTreeClassifier\n",
    "bag_clf = BaggingClassifier(\n",
    "DecisionTreeClassifier(), n_estimators=500,\n",
    "max_samples=100, bootstrap=True, n_jobs=-1)\n",
    "bag_clf.fit(X, Y)\n",
    "y_pred = bag_clf.predict(X)"
   ]
  },
  {
   "cell_type": "code",
   "execution_count": 22,
   "metadata": {},
   "outputs": [],
   "source": [
    "from sklearn.ensemble import RandomForestClassifier\n",
    "rnd_clf = RandomForestClassifier(n_estimators=500, max_leaf_nodes=16, n_jobs=-1)\n",
    "rnd_clf.fit(X, Y)\n",
    "y_pred_rf = rnd_clf.predict(X)"
   ]
  },
  {
   "cell_type": "code",
   "execution_count": 23,
   "metadata": {},
   "outputs": [
    {
     "name": "stdout",
     "output_type": "stream",
     "text": [
      "sepal length (cm) 0.09467502583661443\n",
      "sepal width (cm) 0.026508407379818497\n",
      "petal length (cm) 0.4278950455456129\n",
      "petal width (cm) 0.45092152123795415\n"
     ]
    }
   ],
   "source": [
    "from sklearn.datasets import load_iris\n",
    "iris = load_iris()\n",
    "rnd_clf = RandomForestClassifier(n_estimators=500, n_jobs=-1)\n",
    "rnd_clf.fit(iris[\"data\"], iris[\"target\"])\n",
    "for name, score in zip(iris[\"feature_names\"], rnd_clf.feature_importances_):\n",
    "     print(name, score)"
   ]
  },
  {
   "cell_type": "code",
   "execution_count": 24,
   "metadata": {},
   "outputs": [
    {
     "data": {
      "text/plain": [
       "AdaBoostClassifier(base_estimator=DecisionTreeClassifier(max_depth=1),\n",
       "                   learning_rate=0.5, n_estimators=200)"
      ]
     },
     "execution_count": 24,
     "metadata": {},
     "output_type": "execute_result"
    }
   ],
   "source": [
    "from sklearn.ensemble import AdaBoostClassifier\n",
    "ada_clf = AdaBoostClassifier(\n",
    "DecisionTreeClassifier(max_depth=1), n_estimators=200,\n",
    "algorithm=\"SAMME.R\", learning_rate=0.5)\n",
    "ada_clf.fit(X, Y)"
   ]
  },
  {
   "cell_type": "code",
   "execution_count": 41,
   "metadata": {},
   "outputs": [],
   "source": [
    "import numpy as np\n",
    "from sklearn.model_selection import train_test_split\n",
    "from sklearn.metrics import mean_squared_error\n",
    "X_train, X_val, y_train, y_val = train_test_split(X, y)\n"
   ]
  },
  {
   "cell_type": "code",
   "execution_count": 25,
   "metadata": {},
   "outputs": [
    {
     "data": {
      "text/plain": [
       "GradientBoostingRegressor(learning_rate=1.0, max_depth=2, n_estimators=3)"
      ]
     },
     "execution_count": 25,
     "metadata": {},
     "output_type": "execute_result"
    }
   ],
   "source": [
    "from sklearn.ensemble import GradientBoostingRegressor\n",
    "gbrt = GradientBoostingRegressor(max_depth=2, n_estimators=3, learning_rate=1.0)\n",
    "gbrt.fit(X, Y)"
   ]
  },
  {
   "cell_type": "code",
   "execution_count": 26,
   "metadata": {},
   "outputs": [
    {
     "data": {
      "text/plain": [
       "array([1.27193204e-03, 1.27193204e-03, 1.27193204e-03, 1.27193204e-03,\n",
       "       1.27193204e-03, 1.27193204e-03, 1.27193204e-03, 1.27193204e-03,\n",
       "       1.27193204e-03, 1.27193204e-03, 1.27193204e-03, 1.27193204e-03,\n",
       "       1.27193204e-03, 1.27193204e-03, 1.27193204e-03, 1.27193204e-03,\n",
       "       1.27193204e-03, 1.27193204e-03, 1.27193204e-03, 1.27193204e-03,\n",
       "       1.27193204e-03, 1.27193204e-03, 1.27193204e-03, 1.27193204e-03,\n",
       "       1.27193204e-03, 1.27193204e-03, 1.27193204e-03, 1.27193204e-03,\n",
       "       1.27193204e-03, 1.27193204e-03, 1.27193204e-03, 1.27193204e-03,\n",
       "       1.27193204e-03, 1.27193204e-03, 1.27193204e-03, 1.27193204e-03,\n",
       "       1.27193204e-03, 1.27193204e-03, 1.27193204e-03, 1.27193204e-03,\n",
       "       1.27193204e-03, 1.27193204e-03, 1.27193204e-03, 1.27193204e-03,\n",
       "       1.27193204e-03, 1.27193204e-03, 1.27193204e-03, 1.27193204e-03,\n",
       "       1.27193204e-03, 1.27193204e-03, 1.01397546e+00, 1.01397546e+00,\n",
       "       1.01397546e+00, 1.01397546e+00, 1.01397546e+00, 1.01397546e+00,\n",
       "       1.01397546e+00, 1.01397546e+00, 1.01397546e+00, 1.01397546e+00,\n",
       "       1.01397546e+00, 1.01397546e+00, 1.01397546e+00, 1.01397546e+00,\n",
       "       1.01397546e+00, 1.01397546e+00, 1.01397546e+00, 1.01397546e+00,\n",
       "       1.01397546e+00, 1.01397546e+00, 1.66666667e+00, 1.01397546e+00,\n",
       "       1.01397546e+00, 1.01397546e+00, 1.01397546e+00, 1.01397546e+00,\n",
       "       1.01397546e+00, 1.13088284e+00, 1.01397546e+00, 1.01397546e+00,\n",
       "       1.01397546e+00, 1.01397546e+00, 1.01397546e+00, 1.13088284e+00,\n",
       "       1.01397546e+00, 1.01397546e+00, 1.01397546e+00, 1.01397546e+00,\n",
       "       1.01397546e+00, 1.01397546e+00, 1.01397546e+00, 1.01397546e+00,\n",
       "       1.01397546e+00, 1.01397546e+00, 1.01397546e+00, 1.01397546e+00,\n",
       "       1.01397546e+00, 1.01397546e+00, 1.01397546e+00, 1.01397546e+00,\n",
       "       2.00815633e+00, 2.00815633e+00, 2.00815633e+00, 2.00815633e+00,\n",
       "       2.00815633e+00, 2.00815633e+00, 1.01397546e+00, 2.00815633e+00,\n",
       "       2.00815633e+00, 2.00815633e+00, 2.00815633e+00, 2.00815633e+00,\n",
       "       2.00815633e+00, 2.00815633e+00, 2.00815633e+00, 2.00815633e+00,\n",
       "       2.00815633e+00, 2.00815633e+00, 2.00815633e+00, 2.00127193e+00,\n",
       "       2.00815633e+00, 1.89124895e+00, 2.00815633e+00, 1.89124895e+00,\n",
       "       2.00815633e+00, 2.00815633e+00, 1.66666667e+00, 1.89124895e+00,\n",
       "       2.00815633e+00, 2.00000000e+00, 2.00815633e+00, 2.00815633e+00,\n",
       "       2.00815633e+00, 2.00127193e+00, 2.00127193e+00, 2.00815633e+00,\n",
       "       2.00815633e+00, 2.00815633e+00, 1.66666667e+00, 2.00815633e+00,\n",
       "       2.00815633e+00, 2.00815633e+00, 2.00815633e+00, 2.00815633e+00,\n",
       "       2.00815633e+00, 2.00815633e+00, 2.00815633e+00, 2.00815633e+00,\n",
       "       2.00815633e+00, 2.00815633e+00])"
      ]
     },
     "execution_count": 26,
     "metadata": {},
     "output_type": "execute_result"
    }
   ],
   "source": [
    "gbrt.predict(X)\n"
   ]
  },
  {
   "cell_type": "code",
   "execution_count": null,
   "metadata": {},
   "outputs": [],
   "source": []
  }
 ],
 "metadata": {
  "kernelspec": {
   "display_name": "Python 3",
   "language": "python",
   "name": "python3"
  },
  "language_info": {
   "codemirror_mode": {
    "name": "ipython",
    "version": 3
   },
   "file_extension": ".py",
   "mimetype": "text/x-python",
   "name": "python",
   "nbconvert_exporter": "python",
   "pygments_lexer": "ipython3",
   "version": "3.7.4"
  }
 },
 "nbformat": 4,
 "nbformat_minor": 2
}
