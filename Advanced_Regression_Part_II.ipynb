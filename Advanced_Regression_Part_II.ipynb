{
 "cells": [
  {
   "cell_type": "code",
   "execution_count": 1,
   "metadata": {},
   "outputs": [],
   "source": [
    "import numpy as np\n",
    "import matplotlib as mpl\n",
    "import matplotlib.pyplot as plt\n",
    "\n",
    "X = 2 * np.random.rand(100, 1)\n",
    "y = 4 + 3 * X + np.random.randn(100, 1)"
   ]
  },
  {
   "cell_type": "code",
   "execution_count": 2,
   "metadata": {},
   "outputs": [
    {
     "name": "stdout",
     "output_type": "stream",
     "text": [
      "[[5.12349028e-02]\n",
      " [1.25706606e+00]\n",
      " [1.32004285e-01]\n",
      " [7.34567773e-01]\n",
      " [1.33310562e+00]\n",
      " [1.43492519e+00]\n",
      " [8.87436423e-01]\n",
      " [6.90127225e-01]\n",
      " [1.50598394e+00]\n",
      " [1.79184654e+00]\n",
      " [1.70944151e+00]\n",
      " [6.14852671e-01]\n",
      " [8.73216077e-01]\n",
      " [1.41418008e+00]\n",
      " [1.83624667e+00]\n",
      " [1.45463842e+00]\n",
      " [1.84939010e-01]\n",
      " [6.22657576e-01]\n",
      " [5.32999754e-01]\n",
      " [3.11465169e-01]\n",
      " [3.72685337e-01]\n",
      " [1.50062084e+00]\n",
      " [2.34253504e-01]\n",
      " [1.58982808e+00]\n",
      " [7.97942963e-01]\n",
      " [1.18066992e+00]\n",
      " [2.81799367e-01]\n",
      " [1.31755006e+00]\n",
      " [1.80961767e+00]\n",
      " [5.05011429e-01]\n",
      " [1.52932874e+00]\n",
      " [1.69092249e+00]\n",
      " [8.99636050e-01]\n",
      " [1.69489018e+00]\n",
      " [1.62832641e+00]\n",
      " [1.53896651e+00]\n",
      " [6.24816628e-01]\n",
      " [5.55868596e-01]\n",
      " [1.14436032e+00]\n",
      " [7.25332936e-01]\n",
      " [1.91278317e+00]\n",
      " [4.85112841e-01]\n",
      " [1.72630688e+00]\n",
      " [5.80753651e-01]\n",
      " [1.72577255e+00]\n",
      " [1.95924726e+00]\n",
      " [1.92177659e+00]\n",
      " [1.25134066e+00]\n",
      " [4.25792070e-02]\n",
      " [9.00111110e-01]\n",
      " [3.59199221e-02]\n",
      " [1.82501355e-01]\n",
      " [3.18473517e-01]\n",
      " [5.97976535e-01]\n",
      " [1.10989774e+00]\n",
      " [1.92079000e+00]\n",
      " [1.26433995e+00]\n",
      " [1.69703047e+00]\n",
      " [9.98104301e-01]\n",
      " [8.32702810e-01]\n",
      " [1.70657202e-01]\n",
      " [1.39208869e+00]\n",
      " [9.04123158e-01]\n",
      " [4.03250407e-01]\n",
      " [4.51617032e-01]\n",
      " [1.75565576e+00]\n",
      " [4.13667673e-03]\n",
      " [1.67115563e+00]\n",
      " [1.39380917e+00]\n",
      " [1.97467184e+00]\n",
      " [1.73495092e+00]\n",
      " [3.59244501e-01]\n",
      " [1.32827116e+00]\n",
      " [3.12730167e-01]\n",
      " [3.21323627e-01]\n",
      " [1.52599672e+00]\n",
      " [3.48443652e-01]\n",
      " [4.41665674e-01]\n",
      " [8.45606857e-01]\n",
      " [8.69555936e-01]\n",
      " [9.14498471e-01]\n",
      " [1.84690211e+00]\n",
      " [1.17656981e-01]\n",
      " [1.04076881e-01]\n",
      " [1.30535665e+00]\n",
      " [1.86953201e+00]\n",
      " [4.29094548e-01]\n",
      " [4.84741737e-01]\n",
      " [1.39439049e+00]\n",
      " [5.64564926e-01]\n",
      " [1.55164595e+00]\n",
      " [3.85158969e-04]\n",
      " [1.12468340e-01]\n",
      " [7.46332332e-01]\n",
      " [1.68119229e-01]\n",
      " [2.39921850e-01]\n",
      " [6.21091312e-01]\n",
      " [1.87226369e+00]\n",
      " [3.53331915e-01]\n",
      " [1.49056716e-01]]\n"
     ]
    }
   ],
   "source": [
    "print(X)"
   ]
  },
  {
   "cell_type": "code",
   "execution_count": 3,
   "metadata": {
    "collapsed": true
   },
   "outputs": [
    {
     "name": "stdout",
     "output_type": "stream",
     "text": [
      "[[11.93239068]\n",
      " [ 5.46474053]\n",
      " [ 6.84568081]\n",
      " [ 5.93036309]\n",
      " [ 7.67122981]\n",
      " [ 7.20778258]\n",
      " [ 8.76073445]\n",
      " [ 3.9507701 ]\n",
      " [ 7.1004563 ]\n",
      " [ 7.86733346]\n",
      " [ 7.99294452]\n",
      " [ 7.93065711]\n",
      " [ 3.91811566]\n",
      " [10.32110448]\n",
      " [ 8.26991794]\n",
      " [ 5.07765844]\n",
      " [ 7.01190569]\n",
      " [ 7.70002003]\n",
      " [ 7.26133907]\n",
      " [ 7.9840245 ]\n",
      " [ 9.48188383]\n",
      " [ 7.96160468]\n",
      " [ 8.46408699]\n",
      " [ 6.97398889]\n",
      " [11.27694612]\n",
      " [ 4.74230805]\n",
      " [ 4.94504807]\n",
      " [ 4.84492369]\n",
      " [10.13930801]\n",
      " [ 9.80420206]\n",
      " [ 7.36013876]\n",
      " [ 7.66345556]\n",
      " [ 5.18278608]\n",
      " [ 4.12704199]\n",
      " [ 4.13961041]\n",
      " [ 6.5814478 ]\n",
      " [ 7.07333097]\n",
      " [ 8.37024408]\n",
      " [ 5.33335758]\n",
      " [ 8.94246034]\n",
      " [ 5.78323032]\n",
      " [ 6.00676985]\n",
      " [ 6.53306889]\n",
      " [ 5.57909836]\n",
      " [ 6.38630508]\n",
      " [ 8.83770154]\n",
      " [ 6.73870802]\n",
      " [ 3.57452672]\n",
      " [ 7.49823964]\n",
      " [ 7.10961778]\n",
      " [ 4.78847086]\n",
      " [ 4.50125048]\n",
      " [ 8.26302382]\n",
      " [ 3.18918789]\n",
      " [ 6.22017062]\n",
      " [ 7.85429286]\n",
      " [10.45524466]\n",
      " [ 6.40445736]\n",
      " [ 6.72807009]\n",
      " [ 5.77405776]\n",
      " [ 4.69690694]\n",
      " [ 2.64223352]\n",
      " [ 6.44609452]\n",
      " [ 7.32902586]\n",
      " [ 9.46826456]\n",
      " [ 8.53312088]\n",
      " [ 7.29443233]\n",
      " [ 4.11242318]\n",
      " [10.45019802]\n",
      " [ 6.91761922]\n",
      " [ 6.19316389]\n",
      " [ 8.21479086]\n",
      " [ 9.71356558]\n",
      " [ 8.02814839]\n",
      " [ 6.22839674]\n",
      " [ 7.05046904]\n",
      " [ 6.77741552]\n",
      " [ 9.01049159]\n",
      " [ 2.45580233]\n",
      " [ 3.87635051]\n",
      " [ 6.19157969]\n",
      " [ 7.64639164]\n",
      " [ 4.67694557]\n",
      " [ 5.98938888]\n",
      " [10.06813474]\n",
      " [ 9.70030873]\n",
      " [11.11697732]\n",
      " [ 5.53554178]\n",
      " [ 8.61115448]\n",
      " [ 5.28884377]\n",
      " [ 7.48665815]\n",
      " [ 5.36800879]\n",
      " [ 9.42649657]\n",
      " [ 4.79254955]\n",
      " [ 8.06745359]\n",
      " [ 6.89056255]\n",
      " [ 4.06851429]\n",
      " [ 9.21692521]\n",
      " [ 4.63992672]\n",
      " [ 6.4347706 ]]\n"
     ]
    }
   ],
   "source": [
    "print(y)"
   ]
  },
  {
   "cell_type": "code",
   "execution_count": 28,
   "metadata": {},
   "outputs": [
    {
     "data": {
      "image/png": "[encoded data removed]",
      "text/plain": [
       "<Figure size 432x288 with 1 Axes>"
      ]
     },
     "metadata": {
      "needs_background": "light"
     },
     "output_type": "display_data"
    }
   ],
   "source": [
    "plt.plot(X, y, \"b.\")\n",
    "plt.xlabel(\"$x_1$\", fontsize=18)\n",
    "plt.ylabel(\"$y$\", rotation=0, fontsize=18)\n",
    "plt.axis([0, 2, 0, 15])\n",
    "#save_fig(\"generated_data_plot\")\n",
    "plt.show()"
   ]
  },
  {
   "cell_type": "code",
   "execution_count": 29,
   "metadata": {},
   "outputs": [
    {
     "data": {
      "text/plain": [
       "LinearRegression()"
      ]
     },
     "execution_count": 29,
     "metadata": {},
     "output_type": "execute_result"
    }
   ],
   "source": [
    "from sklearn.linear_model import LinearRegression\n",
    "\n",
    "lin_reg = LinearRegression()\n",
    "lin_reg.fit(X, y)"
   ]
  },
  {
   "cell_type": "code",
   "execution_count": 30,
   "metadata": {},
   "outputs": [
    {
     "data": {
      "text/plain": [
       "(array([3.9932401]), array([[3.03329769]]))"
      ]
     },
     "execution_count": 30,
     "metadata": {},
     "output_type": "execute_result"
    }
   ],
   "source": [
    "lin_reg.intercept_, lin_reg.coef_"
   ]
  },
  {
   "cell_type": "code",
   "execution_count": 31,
   "metadata": {},
   "outputs": [],
   "source": [
    "X_new = np.array([[0], [2]])"
   ]
  },
  {
   "cell_type": "code",
   "execution_count": 8,
   "metadata": {},
   "outputs": [
    {
     "name": "stdout",
     "output_type": "stream",
     "text": [
      "[[0]\n",
      " [2]]\n"
     ]
    }
   ],
   "source": [
    "print(X_new)"
   ]
  },
  {
   "cell_type": "code",
   "execution_count": 32,
   "metadata": {},
   "outputs": [
    {
     "data": {
      "text/plain": [
       "array([[ 3.9932401 ],\n",
       "       [10.05983548]])"
      ]
     },
     "execution_count": 32,
     "metadata": {},
     "output_type": "execute_result"
    }
   ],
   "source": [
    "lin_reg.predict(X_new)"
   ]
  },
  {
   "cell_type": "code",
   "execution_count": 10,
   "metadata": {},
   "outputs": [],
   "source": [
    "## Stochastic Gradient Descent"
   ]
  },
  {
   "cell_type": "code",
   "execution_count": 33,
   "metadata": {},
   "outputs": [],
   "source": [
    "from sklearn.linear_model import SGDRegressor"
   ]
  },
  {
   "cell_type": "code",
   "execution_count": 34,
   "metadata": {},
   "outputs": [],
   "source": [
    "sgd_reg = SGDRegressor(max_iter=1000, tol=1e-3, penalty=None, eta0=0.1, random_state=42)"
   ]
  },
  {
   "cell_type": "code",
   "execution_count": 35,
   "metadata": {},
   "outputs": [
    {
     "data": {
      "text/plain": [
       "SGDRegressor(eta0=0.1, penalty=None, random_state=42)"
      ]
     },
     "execution_count": 35,
     "metadata": {},
     "output_type": "execute_result"
    }
   ],
   "source": [
    "sgd_reg.fit(X, y.ravel())"
   ]
  },
  {
   "cell_type": "code",
   "execution_count": 36,
   "metadata": {},
   "outputs": [
    {
     "data": {
      "text/plain": [
       "(array([3.90662401]), array([2.95584941]))"
      ]
     },
     "execution_count": 36,
     "metadata": {},
     "output_type": "execute_result"
    }
   ],
   "source": [
    "sgd_reg.intercept_, sgd_reg.coef_"
   ]
  },
  {
   "cell_type": "code",
   "execution_count": 37,
   "metadata": {},
   "outputs": [],
   "source": [
    "#Polynomial regression\n",
    "import numpy as np\n",
    "import numpy.random as rnd\n",
    "\n",
    "np.random.seed(42)"
   ]
  },
  {
   "cell_type": "code",
   "execution_count": 38,
   "metadata": {},
   "outputs": [],
   "source": [
    "from sklearn.preprocessing import PolynomialFeatures\n",
    "poly_features = PolynomialFeatures(degree=2, include_bias=False)\n",
    "X_poly = poly_features.fit_transform(X)"
   ]
  },
  {
   "cell_type": "code",
   "execution_count": 39,
   "metadata": {},
   "outputs": [
    {
     "data": {
      "text/plain": [
       "array([0.85031175])"
      ]
     },
     "execution_count": 39,
     "metadata": {},
     "output_type": "execute_result"
    }
   ],
   "source": [
    "X[0]"
   ]
  },
  {
   "cell_type": "code",
   "execution_count": 40,
   "metadata": {},
   "outputs": [
    {
     "data": {
      "text/plain": [
       "array([0.85031175, 0.72303007])"
      ]
     },
     "execution_count": 40,
     "metadata": {},
     "output_type": "execute_result"
    }
   ],
   "source": [
    "X_poly[0]"
   ]
  },
  {
   "cell_type": "code",
   "execution_count": 41,
   "metadata": {},
   "outputs": [
    {
     "data": {
      "text/plain": [
       "(array([4.14530469]), array([[2.60146974, 0.2155036 ]]))"
      ]
     },
     "execution_count": 41,
     "metadata": {},
     "output_type": "execute_result"
    }
   ],
   "source": [
    "lin_reg = LinearRegression()\n",
    "lin_reg.fit(X_poly, y)\n",
    "lin_reg.intercept_, lin_reg.coef_"
   ]
  },
  {
   "cell_type": "code",
   "execution_count": 42,
   "metadata": {},
   "outputs": [
    {
     "data": {
      "image/png": "[encoded data removed]",
      "text/plain": [
       "<Figure size 432x288 with 1 Axes>"
      ]
     },
     "metadata": {
      "needs_background": "light"
     },
     "output_type": "display_data"
    }
   ],
   "source": [
    "X_new=np.linspace(-3, 3, 100).reshape(100, 1)\n",
    "X_new_poly = poly_features.transform(X_new)\n",
    "y_new = lin_reg.predict(X_new_poly)\n",
    "plt.plot(X, y, \"b.\")\n",
    "plt.plot(X_new, y_new, \"r-\", linewidth=2, label=\"Predictions\")\n",
    "plt.xlabel(\"$x_1$\", fontsize=18)\n",
    "plt.ylabel(\"$y$\", rotation=0, fontsize=18)\n",
    "plt.legend(loc=\"upper left\", fontsize=14)\n",
    "plt.axis([-3, 3, 0, 10])\n",
    "#save_fig(\"quadratic_predictions_plot\")\n",
    "plt.show()"
   ]
  },
  {
   "cell_type": "code",
   "execution_count": 21,
   "metadata": {},
   "outputs": [],
   "source": [
    "# Regularized models"
   ]
  },
  {
   "cell_type": "code",
   "execution_count": 43,
   "metadata": {},
   "outputs": [],
   "source": [
    "np.random.seed(42)\n",
    "m = 20\n",
    "X = 3 * np.random.rand(m, 1)\n",
    "y = 1 + 0.5 * X + np.random.randn(m, 1) / 1.5\n",
    "X_new = np.linspace(0, 3, 100).reshape(100, 1)"
   ]
  },
  {
   "cell_type": "code",
   "execution_count": 44,
   "metadata": {},
   "outputs": [
    {
     "data": {
      "text/plain": [
       "array([[1.5507201]])"
      ]
     },
     "execution_count": 44,
     "metadata": {},
     "output_type": "execute_result"
    }
   ],
   "source": [
    "from sklearn.linear_model import Ridge\n",
    "ridge_reg = Ridge(alpha=1, solver=\"sag\", random_state=42)\n",
    "ridge_reg.fit(X, y)\n",
    "ridge_reg.predict([[1.5]])"
   ]
  },
  {
   "cell_type": "code",
   "execution_count": 45,
   "metadata": {},
   "outputs": [
    {
     "data": {
      "text/plain": [
       "array([[1.5507201]])"
      ]
     },
     "execution_count": 45,
     "metadata": {},
     "output_type": "execute_result"
    }
   ],
   "source": [
    "ridge_reg = Ridge(alpha=1, solver=\"sag\", random_state=42)\n",
    "ridge_reg.fit(X, y)\n",
    "ridge_reg.predict([[1.5]])"
   ]
  },
  {
   "cell_type": "code",
   "execution_count": 46,
   "metadata": {},
   "outputs": [
    {
     "data": {
      "text/plain": [
       "array([1.53788174])"
      ]
     },
     "execution_count": 46,
     "metadata": {},
     "output_type": "execute_result"
    }
   ],
   "source": [
    "from sklearn.linear_model import Lasso\n",
    "lasso_reg = Lasso(alpha=0.1)\n",
    "lasso_reg.fit(X, y)\n",
    "lasso_reg.predict([[1.5]])"
   ]
  },
  {
   "cell_type": "code",
   "execution_count": null,
   "metadata": {},
   "outputs": [],
   "source": []
  },
  {
   "cell_type": "code",
   "execution_count": null,
   "metadata": {},
   "outputs": [],
   "source": []
  }
 ],
 "metadata": {
  "kernelspec": {
   "display_name": "Python 3",
   "language": "python",
   "name": "python3"
  },
  "language_info": {
   "codemirror_mode": {
    "name": "ipython",
    "version": 3
   },
   "file_extension": ".py",
   "mimetype": "text/x-python",
   "name": "python",
   "nbconvert_exporter": "python",
   "pygments_lexer": "ipython3",
   "version": "3.7.4"
  }
 },
 "nbformat": 4,
 "nbformat_minor": 2
}
